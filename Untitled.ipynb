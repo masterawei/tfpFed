{
 "cells": [
  {
   "cell_type": "code",
   "execution_count": 1,
   "id": "4a06bdbe",
   "metadata": {},
   "outputs": [],
   "source": [
    "import numpy as np\n",
    "import pandas as pd\n",
    "from sklearn.preprocessing import StandardScaler, MinMaxScaler\n",
    "import sys\n",
    "import warnings\n",
    "import argparse\n",
    "import math\n",
    "import numpy as np\n",
    "import pandas as pd\n",
    "import tensorflow as tf\n",
    "import tensorflow_federated as tff\n",
    "from tensorflow.keras.models import Model\n",
    "from tensorflow.keras.callbacks import EarlyStopping, TensorBoard\n",
    "import nest_asyncio\n",
    "nest_asyncio.apply()"
   ]
  },
  {
   "cell_type": "code",
   "execution_count": 2,
   "id": "c81f4ce7",
   "metadata": {},
   "outputs": [],
   "source": [
    "trian_path = \"train.csv\"\n",
    "test_path = \"test.csv\"\n",
    "\n",
    "attr = 'Lane 1 Flow (Veh/5 Minutes)'\n",
    "lags = 12\n",
    "df_train = pd.read_csv(trian_path, encoding='utf-8').fillna(0)\n",
    "df_test = pd.read_csv(test_path, encoding='utf-8').fillna(0)\n"
   ]
  },
  {
   "cell_type": "code",
   "execution_count": 3,
   "id": "36be9048",
   "metadata": {},
   "outputs": [],
   "source": [
    "scaler = MinMaxScaler(feature_range=(0, 1)).fit(df_train[attr].values.reshape(-1, 1))\n",
    "flow1 = scaler.transform(df_train[attr].values.reshape(-1, 1)).reshape(1, -1)[0]\n",
    "flow2 = scaler.transform(df_test[attr].values.reshape(-1, 1)).reshape(1, -1)[0]\n",
    "\n",
    "train, test = [], []\n",
    "for i in range(lags, len(flow1)):\n",
    "    train.append(flow1[i - lags: i + 1])\n",
    "for i in range(lags, len(flow2)):\n",
    "    test.append(flow2[i - lags: i + 1])\n",
    "\n",
    "train = np.array(train).astype(np.float32)\n",
    "train = np.expand_dims(train, axis=-1)\n",
    "test = np.array(test).astype(np.float32)\n",
    "test = np.expand_dims(test, axis=-1)\n",
    "np.random.shuffle(train)\n",
    "\n",
    "X_train = train[:, :-1]\n",
    "y_train = train[:, -1]\n",
    "X_test = test[:, :-1]\n",
    "y_test = test[:, -1]"
   ]
  },
  {
   "cell_type": "code",
   "execution_count": 4,
   "id": "2a0a3e86",
   "metadata": {},
   "outputs": [
    {
     "data": {
      "text/plain": [
       "(7764, 12, 1)"
      ]
     },
     "execution_count": 4,
     "metadata": {},
     "output_type": "execute_result"
    }
   ],
   "source": [
    "X_train.shape"
   ]
  },
  {
   "cell_type": "code",
   "execution_count": 5,
   "id": "1c7486b4",
   "metadata": {},
   "outputs": [
    {
     "data": {
      "text/plain": [
       "(7764, 1)"
      ]
     },
     "execution_count": 5,
     "metadata": {},
     "output_type": "execute_result"
    }
   ],
   "source": [
    "y_train.shape"
   ]
  },
  {
   "cell_type": "code",
   "execution_count": 6,
   "id": "1c7376c4",
   "metadata": {},
   "outputs": [],
   "source": [
    "EDGE_NUM = 3\n",
    "LOCAL_EPOCHS = 10\n",
    "BATCH_SIZE = 32\n",
    "GLOBAL_EPOCHS = 5"
   ]
  },
  {
   "cell_type": "code",
   "execution_count": 7,
   "id": "192c47c9",
   "metadata": {},
   "outputs": [],
   "source": [
    "#分发数据\n",
    "train_data, test_data, val_data = [], [], []\n",
    "for edge_ids in range(EDGE_NUM):\n",
    "    data_length = X_train.shape[0] // EDGE_NUM #边缘节点数据长度\n",
    "    temp_data = X_train[data_length*edge_ids:data_length*edge_ids+data_length]\n",
    "    tf.expand_dims(temp_data,axis=-1)\n",
    "    temp_label = y_train[data_length*edge_ids:data_length*edge_ids+data_length]\n",
    "    temp_dataset = tf.data.Dataset.from_tensor_slices((temp_data, temp_label)).repeat(LOCAL_EPOCHS).batch(BATCH_SIZE)\n",
    "    train_data.append(temp_dataset)\n",
    "temp_dataset = tf.data.Dataset.from_tensor_slices((X_test, y_test))\n",
    "val_data.append(temp_dataset.batch(BATCH_SIZE))\n",
    "temp_dataset = tf.data.Dataset.from_tensor_slices((X_test, y_test))\n",
    "test_data.append(temp_dataset.batch(BATCH_SIZE))"
   ]
  },
  {
   "cell_type": "code",
   "execution_count": 8,
   "id": "75b48cad",
   "metadata": {},
   "outputs": [
    {
     "data": {
      "text/plain": [
       "<BatchDataset shapes: ((None, 12, 1), (None, 1)), types: (tf.float32, tf.float32)>"
      ]
     },
     "execution_count": 8,
     "metadata": {},
     "output_type": "execute_result"
    }
   ],
   "source": [
    "train_data[0]"
   ]
  },
  {
   "cell_type": "code",
   "execution_count": 9,
   "id": "6cef2ffd",
   "metadata": {},
   "outputs": [],
   "source": [
    "def input_spec():\n",
    "    return (\n",
    "        tf.TensorSpec([None, 12, 1], tf.float32),\n",
    "        tf.TensorSpec([None, 1], tf.float32)\n",
    "    )\n",
    "\n",
    "def model_fn():\n",
    "    model = tf.keras.models.Sequential([\n",
    "        tf.keras.layers.LSTM(64, input_shape=(12, 1), return_sequences=True),\n",
    "        tf.keras.layers.LSTM(64),\n",
    "        tf.keras.layers.Dropout(0.2),\n",
    "        tf.keras.layers.Dense(1, activation='sigmoid'),\n",
    "    ])\n",
    "\n",
    "    return tff.learning.from_keras_model(\n",
    "        model,\n",
    "        input_spec=input_spec(),\n",
    "        loss=tf.keras.losses.MeanSquaredError(),\n",
    "        metrics=[tf.keras.metrics.RootMeanSquaredError(name='rmse')])"
   ]
  },
  {
   "cell_type": "code",
   "execution_count": 10,
   "id": "953dff17",
   "metadata": {},
   "outputs": [],
   "source": [
    "evaluator = tff.learning.build_federated_evaluation(model_fn)"
   ]
  },
  {
   "cell_type": "code",
   "execution_count": 11,
   "id": "bca7c245",
   "metadata": {},
   "outputs": [
    {
     "name": "stdout",
     "output_type": "stream",
     "text": [
      "Run 1/5 _ loss=0.006608371622860432 _ RMSE=0.08129189163446426_valLoss=0.003400146961212158_valRmse=0.05831078067421913_\n",
      "Run 2/5 _ loss=0.0032205956522375345 _ RMSE=0.05675029382109642_valLoss=0.0027871804777532816_valRmse=0.052793752402067184_\n",
      "Run 3/5 _ loss=0.002947145374491811 _ RMSE=0.0542876161634922_valLoss=0.002655156422406435_valRmse=0.0515282116830349_\n",
      "Run 4/5 _ loss=0.002828403143212199 _ RMSE=0.053182732313871384_valLoss=0.0025606630370020866_valRmse=0.0506029948592186_\n",
      "Run 5/5 _ loss=0.002756814006716013 _ RMSE=0.05250537022948265_valLoss=0.002522079972550273_valRmse=0.0502203144133091_\n"
     ]
    }
   ],
   "source": [
    "trainer = tff.learning.build_federated_averaging_process(\n",
    "    model_fn,\n",
    "    client_optimizer_fn=lambda: tf.keras.optimizers.Adam(),\n",
    "    server_optimizer_fn=lambda: tf.keras.optimizers.SGD(learning_rate=1),\n",
    "    # model_update_aggregation_factory=zeroing_mean,\n",
    "    # broadcast_process=encoded_broadcast_process,\n",
    "    # aggregation_process=encoded_mean_process\n",
    ")\n",
    "\n",
    "state = trainer.initialize()\n",
    "train_hist = []\n",
    "losses = []\n",
    "accs = []\n",
    "\n",
    "val_losses = []\n",
    "val_accs = []\n",
    "# environment = set_sizing_environment()\n",
    "for i in range(GLOBAL_EPOCHS):\n",
    "    state, metrics = trainer.next(state, train_data)\n",
    "    train_hist.append(metrics)\n",
    "    losses.append(metrics['train']['loss'])\n",
    "    accs.append(metrics['train']['rmse'])\n",
    "    ''' 通信传输比特 '''\n",
    "#     size_info = environment.get_size_info()\n",
    "#     broadcasted_bits = size_info.broadcast_bits[-1]\n",
    "#     aggregated_bits = size_info.aggregate_bits[-1]\n",
    "    val_metrics = evaluator(state.model, val_data)\n",
    "    val_losses.append(val_metrics['loss'])\n",
    "    val_accs.append(val_metrics['rmse'])\n",
    "    # print(f\"\\rRun {i+1}/{GLOBAL_EPOCHS} _ loss={metrics['train']['loss']} _ \"\n",
    "    #       f\"RMSE={metrics['train']['rmse']}_\"\n",
    "    #       f\"broadcasted_bits={format_size(broadcasted_bits)}_\"\n",
    "    #       f\"aggregated_bits={format_size(aggregated_bits)}\")\n",
    "    print(f\"\\rRun {i+1}/{GLOBAL_EPOCHS} _ loss={metrics['train']['loss']} _ \"\n",
    "          f\"RMSE={metrics['train']['rmse']}_\"f\"valLoss={val_metrics['loss']}_\"f\"valRmse\"\n",
    "          f\"={val_metrics['rmse']}_\")"
   ]
  }
 ],
 "metadata": {
  "kernelspec": {
   "display_name": "fed39",
   "language": "python",
   "name": "fed39"
  },
  "language_info": {
   "codemirror_mode": {
    "name": "ipython",
    "version": 3
   },
   "file_extension": ".py",
   "mimetype": "text/x-python",
   "name": "python",
   "nbconvert_exporter": "python",
   "pygments_lexer": "ipython3",
   "version": "3.8.6"
  }
 },
 "nbformat": 4,
 "nbformat_minor": 5
}
